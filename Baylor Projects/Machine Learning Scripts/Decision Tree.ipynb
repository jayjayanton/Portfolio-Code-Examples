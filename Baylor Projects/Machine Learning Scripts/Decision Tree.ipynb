{
 "cells": [
  {
   "cell_type": "code",
   "execution_count": 166,
   "id": "85f828ef",
   "metadata": {},
   "outputs": [],
   "source": [
    "import pandas as pd\n",
    "import numpy as np\n",
    "from sklearn import tree\n",
    "from sklearn.tree import DecisionTreeClassifier\n",
    "import sklearn.tree as tree\n",
    "import os "
   ]
  },
  {
   "cell_type": "code",
   "execution_count": 167,
   "id": "cd8307ac",
   "metadata": {},
   "outputs": [
    {
     "data": {
      "text/plain": [
       "'C:\\\\Users\\\\Jay_Oliver\\\\OneDrive - Baylor University\\\\Documents\\\\Texas EFlow Spatial 2\\\\Watershed_Zonal_Statistics\\\\Processed Data\\\\Processed Datatables'"
      ]
     },
     "execution_count": 167,
     "metadata": {},
     "output_type": "execute_result"
    }
   ],
   "source": [
    "# Check workspace\n",
    "os.getcwd()"
   ]
  },
  {
   "cell_type": "code",
   "execution_count": 168,
   "id": "42999f1d",
   "metadata": {},
   "outputs": [
    {
     "data": {
      "text/html": [
       "<div>\n",
       "<style scoped>\n",
       "    .dataframe tbody tr th:only-of-type {\n",
       "        vertical-align: middle;\n",
       "    }\n",
       "\n",
       "    .dataframe tbody tr th {\n",
       "        vertical-align: top;\n",
       "    }\n",
       "\n",
       "    .dataframe thead th {\n",
       "        text-align: right;\n",
       "    }\n",
       "</style>\n",
       "<table border=\"1\" class=\"dataframe\">\n",
       "  <thead>\n",
       "    <tr style=\"text-align: right;\">\n",
       "      <th></th>\n",
       "      <th>Gage ID</th>\n",
       "      <th>Falcone_Non_Falcone</th>\n",
       "      <th>Area</th>\n",
       "      <th>lat</th>\n",
       "      <th>lon</th>\n",
       "      <th>Ref_Non_Ref</th>\n",
       "      <th>Ref_Non_Ref_Binary</th>\n",
       "      <th>Point_Count</th>\n",
       "      <th>Concentration_area</th>\n",
       "      <th>Storage_area</th>\n",
       "      <th>...</th>\n",
       "      <th>Williamson County.6</th>\n",
       "      <th>Wilson County.6</th>\n",
       "      <th>Winkler County.6</th>\n",
       "      <th>Wise County.6</th>\n",
       "      <th>Wood County.6</th>\n",
       "      <th>Woodward County.6</th>\n",
       "      <th>Yoakum County.6</th>\n",
       "      <th>Young County.6</th>\n",
       "      <th>Zapata County.6</th>\n",
       "      <th>Zavala County.6</th>\n",
       "    </tr>\n",
       "  </thead>\n",
       "  <tbody>\n",
       "    <tr>\n",
       "      <th>0</th>\n",
       "      <td>7224500</td>\n",
       "      <td>Falcone</td>\n",
       "      <td>18931.099610</td>\n",
       "      <td>35.408943</td>\n",
       "      <td>-104.169985</td>\n",
       "      <td>Non-ref</td>\n",
       "      <td>0</td>\n",
       "      <td>37</td>\n",
       "      <td>0.001954</td>\n",
       "      <td>46.290342</td>\n",
       "      <td>...</td>\n",
       "      <td>0.0</td>\n",
       "      <td>0.0</td>\n",
       "      <td>0.0</td>\n",
       "      <td>0.0</td>\n",
       "      <td>0.0</td>\n",
       "      <td>0.0</td>\n",
       "      <td>0.0</td>\n",
       "      <td>0.0</td>\n",
       "      <td>0.0</td>\n",
       "      <td>0.0</td>\n",
       "    </tr>\n",
       "    <tr>\n",
       "      <th>1</th>\n",
       "      <td>7227000</td>\n",
       "      <td>Falcone</td>\n",
       "      <td>29030.031870</td>\n",
       "      <td>35.357002</td>\n",
       "      <td>-103.418023</td>\n",
       "      <td>Non-ref</td>\n",
       "      <td>0</td>\n",
       "      <td>41</td>\n",
       "      <td>0.001412</td>\n",
       "      <td>44.083314</td>\n",
       "      <td>...</td>\n",
       "      <td>0.0</td>\n",
       "      <td>0.0</td>\n",
       "      <td>0.0</td>\n",
       "      <td>0.0</td>\n",
       "      <td>0.0</td>\n",
       "      <td>0.0</td>\n",
       "      <td>0.0</td>\n",
       "      <td>0.0</td>\n",
       "      <td>0.0</td>\n",
       "      <td>0.0</td>\n",
       "    </tr>\n",
       "    <tr>\n",
       "      <th>2</th>\n",
       "      <td>7227420</td>\n",
       "      <td>Falcone</td>\n",
       "      <td>245.445999</td>\n",
       "      <td>35.751256</td>\n",
       "      <td>-102.893176</td>\n",
       "      <td>Ref</td>\n",
       "      <td>1</td>\n",
       "      <td>0</td>\n",
       "      <td>0.000000</td>\n",
       "      <td>0.000000</td>\n",
       "      <td>...</td>\n",
       "      <td>0.0</td>\n",
       "      <td>0.0</td>\n",
       "      <td>0.0</td>\n",
       "      <td>0.0</td>\n",
       "      <td>0.0</td>\n",
       "      <td>0.0</td>\n",
       "      <td>0.0</td>\n",
       "      <td>0.0</td>\n",
       "      <td>0.0</td>\n",
       "      <td>0.0</td>\n",
       "    </tr>\n",
       "    <tr>\n",
       "      <th>3</th>\n",
       "      <td>7227500</td>\n",
       "      <td>Falcone</td>\n",
       "      <td>49264.398440</td>\n",
       "      <td>35.470332</td>\n",
       "      <td>-101.879637</td>\n",
       "      <td>Non-ref</td>\n",
       "      <td>0</td>\n",
       "      <td>82</td>\n",
       "      <td>0.001664</td>\n",
       "      <td>26.618845</td>\n",
       "      <td>...</td>\n",
       "      <td>0.0</td>\n",
       "      <td>0.0</td>\n",
       "      <td>0.0</td>\n",
       "      <td>0.0</td>\n",
       "      <td>0.0</td>\n",
       "      <td>0.0</td>\n",
       "      <td>0.0</td>\n",
       "      <td>0.0</td>\n",
       "      <td>0.0</td>\n",
       "      <td>0.0</td>\n",
       "    </tr>\n",
       "    <tr>\n",
       "      <th>4</th>\n",
       "      <td>7232250</td>\n",
       "      <td>Falcone</td>\n",
       "      <td>2223.540039</td>\n",
       "      <td>36.629753</td>\n",
       "      <td>-102.681591</td>\n",
       "      <td>Non-ref</td>\n",
       "      <td>0</td>\n",
       "      <td>2</td>\n",
       "      <td>0.000899</td>\n",
       "      <td>3.590221</td>\n",
       "      <td>...</td>\n",
       "      <td>0.0</td>\n",
       "      <td>0.0</td>\n",
       "      <td>0.0</td>\n",
       "      <td>0.0</td>\n",
       "      <td>0.0</td>\n",
       "      <td>0.0</td>\n",
       "      <td>0.0</td>\n",
       "      <td>0.0</td>\n",
       "      <td>0.0</td>\n",
       "      <td>0.0</td>\n",
       "    </tr>\n",
       "  </tbody>\n",
       "</table>\n",
       "<p>5 rows × 2840 columns</p>\n",
       "</div>"
      ],
      "text/plain": [
       "   Gage ID Falcone_Non_Falcone          Area        lat         lon  \\\n",
       "0  7224500             Falcone  18931.099610  35.408943 -104.169985   \n",
       "1  7227000             Falcone  29030.031870  35.357002 -103.418023   \n",
       "2  7227420             Falcone    245.445999  35.751256 -102.893176   \n",
       "3  7227500             Falcone  49264.398440  35.470332 -101.879637   \n",
       "4  7232250             Falcone   2223.540039  36.629753 -102.681591   \n",
       "\n",
       "  Ref_Non_Ref  Ref_Non_Ref_Binary  Point_Count  Concentration_area  \\\n",
       "0     Non-ref                   0           37            0.001954   \n",
       "1     Non-ref                   0           41            0.001412   \n",
       "2         Ref                   1            0            0.000000   \n",
       "3     Non-ref                   0           82            0.001664   \n",
       "4     Non-ref                   0            2            0.000899   \n",
       "\n",
       "   Storage_area  ...  Williamson County.6  Wilson County.6  Winkler County.6  \\\n",
       "0     46.290342  ...                  0.0              0.0               0.0   \n",
       "1     44.083314  ...                  0.0              0.0               0.0   \n",
       "2      0.000000  ...                  0.0              0.0               0.0   \n",
       "3     26.618845  ...                  0.0              0.0               0.0   \n",
       "4      3.590221  ...                  0.0              0.0               0.0   \n",
       "\n",
       "   Wise County.6  Wood County.6  Woodward County.6  Yoakum County.6  \\\n",
       "0            0.0            0.0                0.0              0.0   \n",
       "1            0.0            0.0                0.0              0.0   \n",
       "2            0.0            0.0                0.0              0.0   \n",
       "3            0.0            0.0                0.0              0.0   \n",
       "4            0.0            0.0                0.0              0.0   \n",
       "\n",
       "   Young County.6  Zapata County.6  Zavala County.6  \n",
       "0             0.0              0.0              0.0  \n",
       "1             0.0              0.0              0.0  \n",
       "2             0.0              0.0              0.0  \n",
       "3             0.0              0.0              0.0  \n",
       "4             0.0              0.0              0.0  \n",
       "\n",
       "[5 rows x 2840 columns]"
      ]
     },
     "execution_count": 168,
     "metadata": {},
     "output_type": "execute_result"
    }
   ],
   "source": [
    "my_data = pd.read_csv('Final_Dataset_Testing.csv', delimiter=\",\")\n",
    "my_data[0:5]"
   ]
  },
  {
   "cell_type": "code",
   "execution_count": 169,
   "id": "df2d75ff",
   "metadata": {},
   "outputs": [
    {
     "data": {
      "text/plain": [
       "(531, 2840)"
      ]
     },
     "execution_count": 169,
     "metadata": {},
     "output_type": "execute_result"
    }
   ],
   "source": [
    "my_data.shape"
   ]
  },
  {
   "cell_type": "code",
   "execution_count": 170,
   "id": "cf8032d7",
   "metadata": {},
   "outputs": [
    {
     "data": {
      "text/plain": [
       "9722"
      ]
     },
     "execution_count": 170,
     "metadata": {},
     "output_type": "execute_result"
    }
   ],
   "source": [
    "# Check for NAs\n",
    "my_data.isnull().sum().sum()\n",
    "# 9722"
   ]
  },
  {
   "cell_type": "code",
   "execution_count": 201,
   "id": "d54b2e5c",
   "metadata": {},
   "outputs": [],
   "source": [
    "# Remove columns \n",
    "X = my_data.drop(columns = ['Area','Falcone_Non_Falcone','Ref_Non_Ref','Gage ID', 'Ref_Non_Ref_Binary', 'lat', 'lon'])\n",
    "\n",
    "X.isnull().sum().sum()\n",
    "# 9722\n",
    "\n",
    "# Fill NA Values\n",
    "X = X.fillna(X.mean())"
   ]
  },
  {
   "cell_type": "code",
   "execution_count": 200,
   "id": "7b5a8655",
   "metadata": {},
   "outputs": [
    {
     "data": {
      "text/plain": [
       "array([[3.70000000e+01, 1.95445600e-03, 4.62903424e+01, ...,\n",
       "        0.00000000e+00, 0.00000000e+00, 0.00000000e+00],\n",
       "       [4.10000000e+01, 1.41233200e-03, 4.40833138e+01, ...,\n",
       "        0.00000000e+00, 0.00000000e+00, 0.00000000e+00],\n",
       "       [0.00000000e+00, 0.00000000e+00, 0.00000000e+00, ...,\n",
       "        0.00000000e+00, 0.00000000e+00, 0.00000000e+00],\n",
       "       [8.20000000e+01, 1.66448800e-03, 2.66188451e+01, ...,\n",
       "        0.00000000e+00, 0.00000000e+00, 0.00000000e+00],\n",
       "       [2.00000000e+00, 8.99467000e-04, 3.59022100e+00, ...,\n",
       "        0.00000000e+00, 0.00000000e+00, 0.00000000e+00]])"
      ]
     },
     "execution_count": 200,
     "metadata": {},
     "output_type": "execute_result"
    }
   ],
   "source": [
    "# X as the Feature Matrix (data of my_data)\n",
    "X = X.values\n",
    "X[0:5]"
   ]
  },
  {
   "cell_type": "code",
   "execution_count": 173,
   "id": "50643c60",
   "metadata": {},
   "outputs": [
    {
     "data": {
      "text/plain": [
       "0    Non-ref\n",
       "1    Non-ref\n",
       "2        Ref\n",
       "3    Non-ref\n",
       "4    Non-ref\n",
       "Name: Ref_Non_Ref, dtype: object"
      ]
     },
     "execution_count": 173,
     "metadata": {},
     "output_type": "execute_result"
    }
   ],
   "source": [
    "# y as the response vector (target)\n",
    "y = my_data['Ref_Non_Ref']\n",
    "y[0:5]"
   ]
  },
  {
   "cell_type": "code",
   "execution_count": 174,
   "id": "7cb0a641",
   "metadata": {},
   "outputs": [],
   "source": [
    "from sklearn.model_selection import train_test_split"
   ]
  },
  {
   "cell_type": "code",
   "execution_count": 175,
   "id": "effaf731",
   "metadata": {},
   "outputs": [],
   "source": [
    "X_trainset, X_testset, y_trainset, y_testset = train_test_split(X, y, test_size=0.3, random_state=3)"
   ]
  },
  {
   "cell_type": "code",
   "execution_count": 176,
   "id": "c2663ac3",
   "metadata": {},
   "outputs": [
    {
     "name": "stdout",
     "output_type": "stream",
     "text": [
      "Shape of X training set (371, 2833) &  Size of Y training set (371,)\n"
     ]
    }
   ],
   "source": [
    "# Print the shapes of X_training and y_training data to determine the dimensions match\n",
    "print('Shape of X training set {}'.format(X_trainset.shape),'&',' Size of Y training set {}'.format(y_trainset.shape))"
   ]
  },
  {
   "cell_type": "code",
   "execution_count": 177,
   "id": "1dbb23df",
   "metadata": {},
   "outputs": [
    {
     "name": "stdout",
     "output_type": "stream",
     "text": [
      "Shape of X testing set (160, 2833) &  Size of Y testing set (160,)\n"
     ]
    }
   ],
   "source": [
    "# Print the test sets \n",
    "print('Shape of X testing set {}'.format(X_testset.shape),'&',' Size of Y testing set {}'.format(y_testset.shape))"
   ]
  },
  {
   "cell_type": "code",
   "execution_count": 195,
   "id": "5eb7ad32",
   "metadata": {},
   "outputs": [],
   "source": [
    "Reference_Tree = DecisionTreeClassifier(criterion=\"entropy\", max_depth = 100)\n",
    "\n",
    "# Fit model\n",
    "Reference_Tree.fit(X_trainset,y_trainset)"
   ]
  },
  {
   "cell_type": "code",
   "execution_count": 197,
   "id": "02b36463",
   "metadata": {},
   "outputs": [],
   "source": [
    "predTree = Reference_Tree.predict(X_testset)"
   ]
  },
  {
   "cell_type": "code",
   "execution_count": 198,
   "id": "300a840f",
   "metadata": {},
   "outputs": [
    {
     "name": "stdout",
     "output_type": "stream",
     "text": [
      "['Non-ref' 'Non-ref' 'Non-ref' 'Non-ref' 'Non-ref']\n",
      "61     Non-ref\n",
      "241    Non-ref\n",
      "287    Non-ref\n",
      "401    Non-ref\n",
      "169    Non-ref\n",
      "Name: Ref_Non_Ref, dtype: object\n"
     ]
    }
   ],
   "source": [
    "print (predTree [0:5])\n",
    "print (y_testset [0:5])"
   ]
  },
  {
   "cell_type": "code",
   "execution_count": 194,
   "id": "6aa9a2ad",
   "metadata": {},
   "outputs": [
    {
     "name": "stdout",
     "output_type": "stream",
     "text": [
      "DecisionTrees's Accuracy:  0.88125\n"
     ]
    }
   ],
   "source": [
    "from sklearn import metrics\n",
    "print(\"DecisionTrees's Accuracy: \", metrics.accuracy_score(y_testset, predTree))"
   ]
  }
 ],
 "metadata": {
  "kernelspec": {
   "display_name": "Python 3 (ipykernel)",
   "language": "python",
   "name": "python3"
  },
  "language_info": {
   "codemirror_mode": {
    "name": "ipython",
    "version": 3
   },
   "file_extension": ".py",
   "mimetype": "text/x-python",
   "name": "python",
   "nbconvert_exporter": "python",
   "pygments_lexer": "ipython3",
   "version": "3.9.7"
  }
 },
 "nbformat": 4,
 "nbformat_minor": 5
}
